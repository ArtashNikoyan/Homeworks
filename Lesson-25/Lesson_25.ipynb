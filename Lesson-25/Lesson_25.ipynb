{
 "cells": [
  {
   "cell_type": "code",
   "execution_count": 21,
   "id": "6dc487b7-b1af-40b7-94aa-f0670e45560c",
   "metadata": {},
   "outputs": [],
   "source": [
    "def binary_search(lst, k, lind, rind):\n",
    "    if lind > rind:\n",
    "        return -1\n",
    "    mid = (rind + lind) // 2\n",
    "    if lst[mid] == k:\n",
    "        return mid\n",
    "    elif lst[mid] < k:\n",
    "        return binary_search(lst, k, mid+1, rind)\n",
    "    else:\n",
    "        return binary_search(lst, k, lind, mid-1)"
   ]
  },
  {
   "cell_type": "code",
   "execution_count": 22,
   "id": "e6de37b3-7c7d-4203-87c6-64373d025088",
   "metadata": {},
   "outputs": [
    {
     "data": {
      "text/plain": [
       "5"
      ]
     },
     "execution_count": 22,
     "metadata": {},
     "output_type": "execute_result"
    }
   ],
   "source": [
    "lst = [2, 5, 8, 12, 16, 23, 38, 56, 82, 91]\n",
    "binary_search(lst, 23, 0, len(lst)-1)"
   ]
  }
 ],
 "metadata": {
  "kernelspec": {
   "display_name": "Python 3 (ipykernel)",
   "language": "python",
   "name": "python3"
  },
  "language_info": {
   "codemirror_mode": {
    "name": "ipython",
    "version": 3
   },
   "file_extension": ".py",
   "mimetype": "text/x-python",
   "name": "python",
   "nbconvert_exporter": "python",
   "pygments_lexer": "ipython3",
   "version": "3.12.4"
  }
 },
 "nbformat": 4,
 "nbformat_minor": 5
}
