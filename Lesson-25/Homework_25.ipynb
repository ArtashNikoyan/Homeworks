{
 "cells": [
  {
   "cell_type": "code",
   "execution_count": null,
   "id": "8b4e55da-8ad6-4ebf-9dfc-554fb080a3a4",
   "metadata": {},
   "outputs": [],
   "source": [
    "# 1․ Գրել հետևյալ ծրագիրը․\n",
    "#    - բացել jupyter notebook-ը,\n",
    "#    - գեներացնել list, որը կպարունակի 1-ից 1_000_000 միջակայքում գտնվող կենտ թվերը,\n",
    "#    - պահել գեներացված list-ը համապատասխան ֆորմատով համակարգչի մեջ data անունով,\n",
    "#    - բացել pycharm-ը,\n",
    "#    - pycharm-ում կարդալ data ֆայլը,\n",
    "#    - կարդացած list-ում կթողնի միայն 3-ի բաժանվող թվերը,\n",
    "#    - կտպի ստացված list-ի արժեքների միջին թվաբանականը։"
   ]
  },
  {
   "cell_type": "code",
   "execution_count": 15,
   "id": "7a1668a9-37da-4ac1-97f8-0b093ced7a97",
   "metadata": {},
   "outputs": [],
   "source": [
    "import json"
   ]
  },
  {
   "cell_type": "code",
   "execution_count": 16,
   "id": "9ed6143e-2ddc-47b2-b9c5-00362578702f",
   "metadata": {},
   "outputs": [],
   "source": [
    "lst = [i for i in range(1, 1000000, 2)]"
   ]
  },
  {
   "cell_type": "code",
   "execution_count": 17,
   "id": "d3b167ce-6387-41d9-b888-8480b38c7b70",
   "metadata": {},
   "outputs": [],
   "source": [
    "with open('data.json', 'w') as f:\n",
    "    f.write(json.dumps(lst))"
   ]
  }
 ],
 "metadata": {
  "kernelspec": {
   "display_name": "Python 3 (ipykernel)",
   "language": "python",
   "name": "python3"
  },
  "language_info": {
   "codemirror_mode": {
    "name": "ipython",
    "version": 3
   },
   "file_extension": ".py",
   "mimetype": "text/x-python",
   "name": "python",
   "nbconvert_exporter": "python",
   "pygments_lexer": "ipython3",
   "version": "3.12.4"
  }
 },
 "nbformat": 4,
 "nbformat_minor": 5
}
